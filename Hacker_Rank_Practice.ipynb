{
  "nbformat": 4,
  "nbformat_minor": 0,
  "metadata": {
    "colab": {
      "provenance": [],
      "authorship_tag": "ABX9TyPLRjCHK++i17pwOT/VWuCY",
      "include_colab_link": true
    },
    "kernelspec": {
      "name": "python3",
      "display_name": "Python 3"
    },
    "language_info": {
      "name": "python"
    }
  },
  "cells": [
    {
      "cell_type": "markdown",
      "metadata": {
        "id": "view-in-github",
        "colab_type": "text"
      },
      "source": [
        "<a href=\"https://colab.research.google.com/github/AntonioWh1te/The-Journey/blob/main/Hacker_Rank_Practice.ipynb\" target=\"_parent\"><img src=\"https://colab.research.google.com/assets/colab-badge.svg\" alt=\"Open In Colab\"/></a>"
      ]
    },
    {
      "cell_type": "markdown",
      "source": [
        "# Common HackerRank imports:\n",
        "\n",
        "\n",
        "1.   import math: Gives access to mathematical functions like ceil, floor, sqrt, factorial and others.\n",
        "2.   import os: Used for interacting with the operating system (paths, environment variables, etc.)\n",
        "3.   import random: for generating random numbers (random.random(), random.randint(a, b)\n",
        "\n"
      ],
      "metadata": {
        "id": "ervQalxK0UBx"
      }
    },
    {
      "cell_type": "code",
      "source": [
        "import random\n",
        "\n",
        "# Generates a float in the range [0.0, 1.0]\n",
        "value = random.random()\n",
        "print(value)\n",
        "\n",
        "# Generates a a random integer between a and b in (a,b)\n",
        "num = random.randint(1,100)\n",
        "print(num)\n",
        "\n",
        "# Generates a random float between a and b in (a,b)\n",
        "value = random.uniform(1,5)\n",
        "print(value)\n",
        "\n",
        "# Picks a random element from a list\n",
        "list = [\"Antonio\", \"Alina\", \"Jacob\", \"Jamal\"]\n",
        "randomlist = random.choice(list)\n",
        "print(randomlist)\n",
        "\n",
        "# Generates one random integer from the rage\n",
        "## The range does not include the final number, so add one more step when dealing with a discrete set.\n",
        "num1 = random.randrange(0, 20, 5)\n",
        "print(num1)\n"
      ],
      "metadata": {
        "colab": {
          "base_uri": "https://localhost:8080/"
        },
        "id": "d4ena6aO2I6d",
        "outputId": "992eae5d-cdd5-4979-9993-0b5c5a21b8b1"
      },
      "execution_count": 126,
      "outputs": [
        {
          "output_type": "stream",
          "name": "stdout",
          "text": [
            "0.6823353833407214\n",
            "14\n",
            "4.239235693557444\n",
            "Antonio\n",
            "15\n"
          ]
        }
      ]
    },
    {
      "cell_type": "code",
      "source": [
        "import math\n",
        "\n",
        "# Square root of x, returns a float\n",
        "num = math.sqrt(16)\n",
        "print(num)\n",
        "\n",
        "# math.pow(x, y): x raised to the power of y, returns a float\n",
        "result = math.pow(7,3)\n",
        "print(result)\n",
        "\n",
        "# math.gcd(x,y): Greatest common divisor of x and y.\n",
        "yes = math.gcd(125000, 375000)\n",
        "print(yes)"
      ],
      "metadata": {
        "colab": {
          "base_uri": "https://localhost:8080/"
        },
        "id": "yKhV4YNIGAyC",
        "outputId": "caadb12b-81a4-4aaf-a0cd-6be3a19d2831"
      },
      "execution_count": 139,
      "outputs": [
        {
          "output_type": "stream",
          "name": "stdout",
          "text": [
            "4.0\n",
            "343.0\n",
            "125000\n"
          ]
        }
      ]
    },
    {
      "cell_type": "markdown",
      "source": [
        "# Practice Exercise 1\n",
        "Dice Rolling Simulator. Simulate rolling two dice. Print the results and their sum\n"
      ],
      "metadata": {
        "id": "kjJXpDMKI2sC"
      }
    },
    {
      "cell_type": "code",
      "source": [
        "dice1 = random.randint(1,6)\n",
        "dice2 = random.randint(1,6)\n",
        "\n",
        "print(\"Dice 1 rolled a:\", dice1)\n",
        "print(\"Dice 2 rolled a:\", dice2)\n",
        "sum = dice1 + dice2\n",
        "print(\"The sum of the two dice is:\", sum)\n"
      ],
      "metadata": {
        "colab": {
          "base_uri": "https://localhost:8080/"
        },
        "id": "ZqdWMXTsHoaG",
        "outputId": "639a8f2a-9565-4dd2-fa06-3ee3e5011c10"
      },
      "execution_count": 151,
      "outputs": [
        {
          "output_type": "stream",
          "name": "stdout",
          "text": [
            "Dice 1 rolled a: 3\n",
            "Dice 2 rolled a: 3\n",
            "The sum of the two dice is: 6\n"
          ]
        }
      ]
    },
    {
      "cell_type": "markdown",
      "source": [
        "# Practice Exercise 2\n",
        "Random Password Generator. Create a random password of length 8 from letters and digits using random.choice()"
      ],
      "metadata": {
        "id": "6-LaUl0VJTO3"
      }
    },
    {
      "cell_type": "code",
      "source": [
        "import random\n",
        "import string\n",
        "\n",
        "length = 8\n",
        "random_string = ''.join(random.choices(string.ascii_letters + string.digits, k=length))\n",
        "print(random_string)"
      ],
      "metadata": {
        "colab": {
          "base_uri": "https://localhost:8080/"
        },
        "id": "ALxk1E1jJix3",
        "outputId": "6c1fbef5-544b-4e42-8761-a23de40cf355"
      },
      "execution_count": 52,
      "outputs": [
        {
          "output_type": "stream",
          "name": "stdout",
          "text": [
            "DgDCE8zu\n"
          ]
        }
      ]
    },
    {
      "cell_type": "markdown",
      "source": [
        "# Practice Exercise 3\n",
        "**Even or Odd Messenger:** Prompt the user for an integer, then check if it’s even or odd.\n",
        "Print:\n",
        "\"Even number!\" if it’s even\n",
        "\"Odd number!\" if it’s odd\n",
        "\n",
        "\n",
        "\n"
      ],
      "metadata": {
        "id": "jhSmK03c7lFh"
      }
    },
    {
      "cell_type": "code",
      "source": [
        "# name = input(\"What is your name?\")\n",
        "# print(f\"Nice to meet you, {name}!\")\n",
        "\n",
        "num = int(input(\"Enter an integer: \"))\n",
        "\n",
        "if num % 2 == 0:\n",
        "  print(\"Even number!\")\n",
        "else:\n",
        "  print(\"Odd number!\")"
      ],
      "metadata": {
        "colab": {
          "base_uri": "https://localhost:8080/"
        },
        "id": "l5_e3_2o7pxC",
        "outputId": "72f412bc-4e53-4d7d-e2bb-4571c926cc2a"
      },
      "execution_count": 72,
      "outputs": [
        {
          "output_type": "stream",
          "name": "stdout",
          "text": [
            "Enter an integer: 7\n",
            "Odd number!\n",
            "False\n"
          ]
        }
      ]
    },
    {
      "cell_type": "markdown",
      "source": [
        "# Practice Exercise 4\n",
        "**Range Classifier:** Prompt the user for an integer n. Check where n falls among these ranges and print accordingly:\n",
        "\n",
        "n < 5: print \"Below 5\"\n",
        "\n",
        "5 <= n <= 10: print \"Between 5 and 10 inclusive\"\n",
        "\n",
        "n > 10: print \"Above 10\"\n"
      ],
      "metadata": {
        "id": "caB6culdLrlF"
      }
    },
    {
      "cell_type": "code",
      "source": [
        "n = int(input(\"Give me an integer: \"))\n",
        "if n < 5:\n",
        "  print(\"Below 5\")\n",
        "elif 5 <= n <= 10:\n",
        "  print(\"Between 5 and 10 inclusive\")\n",
        "elif n > 10:\n",
        "  print (\"Above 10\")"
      ],
      "metadata": {
        "colab": {
          "base_uri": "https://localhost:8080/"
        },
        "id": "Rpbg9oUxL3iI",
        "outputId": "b2533edf-7114-4d9e-9e2d-43c3e1f50118"
      },
      "execution_count": 79,
      "outputs": [
        {
          "output_type": "stream",
          "name": "stdout",
          "text": [
            "Give me an integer: 7\n",
            "Between 5 and 10 inclusive\n"
          ]
        }
      ]
    }
  ]
}