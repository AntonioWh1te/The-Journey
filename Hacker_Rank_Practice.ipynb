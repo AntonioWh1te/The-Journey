{
  "nbformat": 4,
  "nbformat_minor": 0,
  "metadata": {
    "colab": {
      "provenance": [],
      "authorship_tag": "ABX9TyMUyX6M9MQI2Q3YmDyoJpf7",
      "include_colab_link": true
    },
    "kernelspec": {
      "name": "python3",
      "display_name": "Python 3"
    },
    "language_info": {
      "name": "python"
    }
  },
  "cells": [
    {
      "cell_type": "markdown",
      "metadata": {
        "id": "view-in-github",
        "colab_type": "text"
      },
      "source": [
        "<a href=\"https://colab.research.google.com/github/AntonioWh1te/The-Journey/blob/main/Hacker_Rank_Practice.ipynb\" target=\"_parent\"><img src=\"https://colab.research.google.com/assets/colab-badge.svg\" alt=\"Open In Colab\"/></a>"
      ]
    },
    {
      "cell_type": "markdown",
      "source": [
        "# Common HackerRank imports:\n",
        "\n",
        "\n",
        "1.   import math: Gives access to mathematical functions like ceil, floor, sqrt, factorial and others.\n",
        "2.   import os: Used for interacting with the operating system (paths, environment variables, etc.)\n",
        "3.   import random: for generating random numbers (random.random(), random.randint(a, b)\n",
        "\n"
      ],
      "metadata": {
        "id": "ervQalxK0UBx"
      }
    },
    {
      "cell_type": "code",
      "source": [],
      "metadata": {
        "id": "d4ena6aO2I6d"
      },
      "execution_count": null,
      "outputs": []
    }
  ]
}