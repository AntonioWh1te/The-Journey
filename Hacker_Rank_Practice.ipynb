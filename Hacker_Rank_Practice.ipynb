{
  "nbformat": 4,
  "nbformat_minor": 0,
  "metadata": {
    "colab": {
      "provenance": [],
      "authorship_tag": "ABX9TyN3uBethVIxcVkMdu4CxwdC",
      "include_colab_link": true
    },
    "kernelspec": {
      "name": "python3",
      "display_name": "Python 3"
    },
    "language_info": {
      "name": "python"
    }
  },
  "cells": [
    {
      "cell_type": "markdown",
      "metadata": {
        "id": "view-in-github",
        "colab_type": "text"
      },
      "source": [
        "<a href=\"https://colab.research.google.com/github/AntonioWh1te/The-Journey/blob/main/Hacker_Rank_Practice.ipynb\" target=\"_parent\"><img src=\"https://colab.research.google.com/assets/colab-badge.svg\" alt=\"Open In Colab\"/></a>"
      ]
    },
    {
      "cell_type": "markdown",
      "source": [
        "# Common HackerRank imports:\n",
        "\n",
        "\n",
        "1.   import math: Gives access to mathematical functions like ceil, floor, sqrt, factorial and others.\n",
        "2.   import os: Used for interacting with the operating system (paths, environment variables, etc.)\n",
        "3.   import random: for generating random numbers (random.random(), random.randint(a, b)\n",
        "\n"
      ],
      "metadata": {
        "id": "ervQalxK0UBx"
      }
    },
    {
      "cell_type": "code",
      "source": [
        "import random\n",
        "\n",
        "# Generates a float in the range [0.0, 1.0]\n",
        "value = random.random()\n",
        "print(value)\n",
        "\n",
        "# Generates a a random integer between a and b in (a,b)\n",
        "num = random.randint(1,100)\n",
        "print(num)\n",
        "\n",
        "# Generates a random float between a and b in (a,b)\n",
        "value = random.uniform(1,5)\n",
        "print(value)\n",
        "\n",
        "# Picks a random element from a list\n",
        "list = [\"Antonio\", \"Alina\", \"Jacob\", \"Jamal\"]\n",
        "randomlist = random.choice(list)\n",
        "print(randomlist)\n",
        "\n",
        "# Generates one random integer from the rage\n",
        "## The range does not include the final number, so add one more step when dealing with a discrete set.\n",
        "num1 = random.randrange(0, 20, 5)\n",
        "print(num1)\n"
      ],
      "metadata": {
        "colab": {
          "base_uri": "https://localhost:8080/"
        },
        "id": "d4ena6aO2I6d",
        "outputId": "992eae5d-cdd5-4979-9993-0b5c5a21b8b1"
      },
      "execution_count": 126,
      "outputs": [
        {
          "output_type": "stream",
          "name": "stdout",
          "text": [
            "0.6823353833407214\n",
            "14\n",
            "4.239235693557444\n",
            "Antonio\n",
            "15\n"
          ]
        }
      ]
    },
    {
      "cell_type": "code",
      "source": [
        "import math\n",
        "\n",
        "# Square root of x, returns a float\n",
        "num = math.sqrt(16)\n",
        "print(num)\n",
        "\n",
        "# math.pow(x, y): x raised to the power of y, returns a float\n",
        "result = math.pow(7,3)\n",
        "print(result)\n",
        "\n",
        "# math.gcd(x,y): Greatest common divisor of x and y.\n",
        "yes = math.gcd(125000, 375000)\n",
        "print(yes)"
      ],
      "metadata": {
        "colab": {
          "base_uri": "https://localhost:8080/"
        },
        "id": "yKhV4YNIGAyC",
        "outputId": "caadb12b-81a4-4aaf-a0cd-6be3a19d2831"
      },
      "execution_count": 139,
      "outputs": [
        {
          "output_type": "stream",
          "name": "stdout",
          "text": [
            "4.0\n",
            "343.0\n",
            "125000\n"
          ]
        }
      ]
    },
    {
      "cell_type": "markdown",
      "source": [
        "# Practice Exercise 1\n",
        "Dice Rolling Simulator. Simulate rolling two dice. Print the results and their sum\n"
      ],
      "metadata": {
        "id": "kjJXpDMKI2sC"
      }
    },
    {
      "cell_type": "code",
      "source": [
        "dice1 = random.randint(1,6)\n",
        "dice2 = random.randint(1,6)\n",
        "\n",
        "print(\"Dice 1 rolled a:\", dice1)\n",
        "print(\"Dice 2 rolled a:\", dice2)\n",
        "sum = dice1 + dice2\n",
        "print(\"The sum of the two dice is:\", sum)\n"
      ],
      "metadata": {
        "colab": {
          "base_uri": "https://localhost:8080/"
        },
        "id": "ZqdWMXTsHoaG",
        "outputId": "639a8f2a-9565-4dd2-fa06-3ee3e5011c10"
      },
      "execution_count": 151,
      "outputs": [
        {
          "output_type": "stream",
          "name": "stdout",
          "text": [
            "Dice 1 rolled a: 3\n",
            "Dice 2 rolled a: 3\n",
            "The sum of the two dice is: 6\n"
          ]
        }
      ]
    }
  ]
}