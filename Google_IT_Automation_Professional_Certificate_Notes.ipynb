{
  "nbformat": 4,
  "nbformat_minor": 0,
  "metadata": {
    "colab": {
      "provenance": []
    },
    "kernelspec": {
      "name": "python3",
      "display_name": "Python 3"
    },
    "language_info": {
      "name": "python"
    }
  },
  "cells": [
    {
      "cell_type": "code",
      "execution_count": null,
      "metadata": {
        "colab": {
          "base_uri": "https://localhost:8080/"
        },
        "id": "R66gB5koTusU",
        "outputId": "e76cda5d-48c2-402d-8f8d-827c55b069cd"
      },
      "outputs": [
        {
          "output_type": "stream",
          "name": "stdout",
          "text": [
            "Hello World!\n",
            "150\n"
          ]
        }
      ],
      "source": [
        "print (\"Hello World!\")\n",
        "y = 10\n",
        "x = 15\n",
        "sum = y * x\n",
        "print(sum)"
      ]
    },
    {
      "cell_type": "markdown",
      "source": [
        "* Script = a program with a short development cycle. (Short, simple, quick).\n",
        "* Automation = The process of replacing a manual step with one that happens automatically. Consistency\n",
        "* Computer Program = A list of instructions that the computer has to follow to reach a goal.\n",
        "* Syntax = The rules of how to express things in a certain language.\n"
      ],
      "metadata": {
        "id": "TfGP5p1G9lhn"
      }
    },
    {
      "cell_type": "code",
      "source": [
        "for i in range(10):\n",
        "  print (\"Hello, World!\") #Prints Hell, World! 10 times"
      ],
      "metadata": {
        "colab": {
          "base_uri": "https://localhost:8080/"
        },
        "id": "n6gkMargd6ki",
        "outputId": "cdcf7ca4-170c-43fa-cfcf-9c31c52cfc4c"
      },
      "execution_count": 2,
      "outputs": [
        {
          "output_type": "stream",
          "name": "stdout",
          "text": [
            "Hello, World!\n",
            "Hello, World!\n",
            "Hello, World!\n",
            "Hello, World!\n",
            "Hello, World!\n",
            "Hello, World!\n",
            "Hello, World!\n",
            "Hello, World!\n",
            "Hello, World!\n",
            "Hello, World!\n"
          ]
        }
      ]
    },
    {
      "cell_type": "markdown",
      "source": [],
      "metadata": {
        "id": "2afe7kWDeReT"
      }
    }
  ]
}