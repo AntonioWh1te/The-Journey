{
  "cells": [
    {
      "cell_type": "code",
      "execution_count": null,
      "metadata": {
        "colab": {
          "base_uri": "https://localhost:8080/"
        },
        "id": "R66gB5koTusU",
        "outputId": "e76cda5d-48c2-402d-8f8d-827c55b069cd"
      },
      "outputs": [
        {
          "name": "stdout",
          "output_type": "stream",
          "text": [
            "Hello World!\n",
            "150\n"
          ]
        }
      ],
      "source": [
        "print (\"Hello World!\")\n",
        "y = 10\n",
        "x = 15\n",
        "sum = y * x\n",
        "print(sum)"
      ]
    },
    {
      "cell_type": "markdown",
      "metadata": {
        "id": "TfGP5p1G9lhn"
      },
      "source": [
        "* Script = a program with a short development cycle. (Short, simple, quick).\n",
        "* Automation = The process of replacing a manual step with one that happens automatically. Consistency\n",
        "* Computer Program = A list of instructions that the computer has to follow to reach a goal.\n",
        "* Syntax = The rules of how to express things in a certain language.\n"
      ]
    },
    {
      "cell_type": "code",
      "execution_count": 2,
      "metadata": {
        "colab": {
          "base_uri": "https://localhost:8080/"
        },
        "id": "n6gkMargd6ki",
        "outputId": "cdcf7ca4-170c-43fa-cfcf-9c31c52cfc4c"
      },
      "outputs": [
        {
          "name": "stdout",
          "output_type": "stream",
          "text": [
            "Hello, World!\n",
            "Hello, World!\n",
            "Hello, World!\n",
            "Hello, World!\n",
            "Hello, World!\n",
            "Hello, World!\n",
            "Hello, World!\n",
            "Hello, World!\n",
            "Hello, World!\n",
            "Hello, World!\n"
          ]
        }
      ],
      "source": [
        "for i in range(10):\n",
        "  print (\"Hello, World!\") #Prints Hell, World! 10 times"
      ]
    },
    {
      "cell_type": "code",
      "execution_count": null,
      "metadata": {},
      "outputs": [],
      "source": [
        "name = \"Antonio\"\n",
        "print(\"Hello \" + name)\n"
      ]
    },
    {
      "cell_type": "markdown",
      "metadata": {
        "id": "2afe7kWDeReT"
      },
      "source": []
    }
  ],
  "metadata": {
    "colab": {
      "provenance": []
    },
    "kernelspec": {
      "display_name": "Python 3",
      "name": "python3"
    },
    "language_info": {
      "name": "python"
    }
  },
  "nbformat": 4,
  "nbformat_minor": 0
}
