{
  "nbformat": 4,
  "nbformat_minor": 0,
  "metadata": {
    "colab": {
      "provenance": [],
      "authorship_tag": "ABX9TyNagakWMZ0CayyDZ6CG+mRA",
      "include_colab_link": true
    },
    "kernelspec": {
      "name": "python3",
      "display_name": "Python 3"
    },
    "language_info": {
      "name": "python"
    }
  },
  "cells": [
    {
      "cell_type": "markdown",
      "metadata": {
        "id": "view-in-github",
        "colab_type": "text"
      },
      "source": [
        "<a href=\"https://colab.research.google.com/github/AntonioWh1te/The-Journey/blob/Branch-1/Google_IT_Automation_Professional_Certificate_Notes.ipynb\" target=\"_parent\"><img src=\"https://colab.research.google.com/assets/colab-badge.svg\" alt=\"Open In Colab\"/></a>"
      ]
    },
    {
      "cell_type": "code",
      "execution_count": null,
      "metadata": {
        "colab": {
          "base_uri": "https://localhost:8080/"
        },
        "id": "R66gB5koTusU",
        "outputId": "e76cda5d-48c2-402d-8f8d-827c55b069cd"
      },
      "outputs": [
        {
          "output_type": "stream",
          "name": "stdout",
          "text": [
            "Hello World!\n",
            "150\n"
          ]
        }
      ],
      "source": [
        "print (\"Hello World!\")\n",
        "y = 10\n",
        "x = 15\n",
        "sum = y * x\n",
        "print(sum)"
      ]
    },
    {
      "cell_type": "markdown",
      "source": [
        "* Script = a program with a short development cycle. (Short, simple, quick).\n",
        "* Automation = The process of replacing a manual step with one that happens automatically. Consistency\n",
        "* Computer Program = A list of instructions that the computer has to follow to reach a goal.\n",
        "* Syntax = The rules of how to express things in a certain language.\n"
      ],
      "metadata": {
        "id": "TfGP5p1G9lhn"
      }
    },
    {
      "cell_type": "code",
      "source": [
        "for i in range(10):\n",
        "  print (\"Hello, World!\") #Prints Hello, World! 10 times"
      ],
      "metadata": {
        "colab": {
          "base_uri": "https://localhost:8080/"
        },
        "id": "n6gkMargd6ki",
        "outputId": "cdcf7ca4-170c-43fa-cfcf-9c31c52cfc4c"
      },
      "execution_count": 2,
      "outputs": [
        {
          "output_type": "stream",
          "name": "stdout",
          "text": [
            "Hello, World!\n",
            "Hello, World!\n",
            "Hello, World!\n",
            "Hello, World!\n",
            "Hello, World!\n",
            "Hello, World!\n",
            "Hello, World!\n",
            "Hello, World!\n",
            "Hello, World!\n",
            "Hello, World!\n"
          ]
        }
      ]
    },
    {
      "cell_type": "code",
      "source": [
        "name = \"Antonio\"\n",
        "print(\"Hello \" + name)"
      ],
      "metadata": {
        "colab": {
          "base_uri": "https://localhost:8080/"
        },
        "id": "L18VYcIIZa1Y",
        "outputId": "af4674b0-ef32-4b1d-e682-06eba1394ea2"
      },
      "execution_count": 5,
      "outputs": [
        {
          "output_type": "stream",
          "name": "stdout",
          "text": [
            "Hello Antonio\n"
          ]
        }
      ]
    },
    {
      "cell_type": "code",
      "source": [
        "from google.colab import auth\n",
        "auth.authenticate_user() #This code will authenitcate Github so I can automatically track my progress and use  Colab.\n"
      ],
      "metadata": {
        "id": "Q5vBui1Vremr"
      },
      "execution_count": 7,
      "outputs": []
    },
    {
      "cell_type": "code",
      "source": [
        "!git config --global user.email \"antoniojwhite27@gmail.com\"\n",
        "!git config --global user.name \"AntonioWh1te\"\n"
      ],
      "metadata": {
        "id": "Y_UgeFIos6t7"
      },
      "execution_count": 8,
      "outputs": []
    },
    {
      "cell_type": "code",
      "source": [
        "!git clone https://github.com/AntonioWh1te/The-Journey.git #This will clone my GitHub Repository in Colab\n"
      ],
      "metadata": {
        "colab": {
          "base_uri": "https://localhost:8080/"
        },
        "id": "vk5NY0C0tJYo",
        "outputId": "cd6629a0-9979-476f-d337-c6d07ace3dd1"
      },
      "execution_count": 9,
      "outputs": [
        {
          "output_type": "stream",
          "name": "stdout",
          "text": [
            "Cloning into 'The-Journey'...\n",
            "remote: Enumerating objects: 9, done.\u001b[K\n",
            "remote: Counting objects: 100% (9/9), done.\u001b[K\n",
            "remote: Compressing objects: 100% (9/9), done.\u001b[K\n",
            "remote: Total 9 (delta 2), reused 0 (delta 0), pack-reused 0 (from 0)\u001b[K\n",
            "Receiving objects: 100% (9/9), done.\n",
            "Resolving deltas: 100% (2/2), done.\n"
          ]
        }
      ]
    },
    {
      "cell_type": "code",
      "source": [
        "%cd The-Journey\n"
      ],
      "metadata": {
        "colab": {
          "base_uri": "https://localhost:8080/"
        },
        "id": "UFLsd4Jht5Dj",
        "outputId": "9121c739-0bda-4d11-b90e-648de34b1dd5"
      },
      "execution_count": 11,
      "outputs": [
        {
          "output_type": "stream",
          "name": "stdout",
          "text": [
            "/content/The-Journey\n"
          ]
        }
      ]
    },
    {
      "cell_type": "code",
      "source": [
        "!git init\n",
        "!git remote add origin https://github.com/YOUR_GITHUB_USERNAME/YOUR_REPOSITORY_NAME.git\n",
        "!git branch -M main\n",
        "!git pull origin main --allow-unrelated-histories\n"
      ],
      "metadata": {
        "colab": {
          "base_uri": "https://localhost:8080/"
        },
        "id": "-nffOkP3uA_7",
        "outputId": "a17a57ab-3b58-445d-fad0-e4f87f191fe4"
      },
      "execution_count": 12,
      "outputs": [
        {
          "output_type": "stream",
          "name": "stdout",
          "text": [
            "Reinitialized existing Git repository in /content/The-Journey/.git/\n",
            "error: remote origin already exists.\n",
            "From https://github.com/AntonioWh1te/The-Journey\n",
            " * branch            main       -> FETCH_HEAD\n",
            "Already up to date.\n"
          ]
        }
      ]
    },
    {
      "cell_type": "code",
      "source": [
        "!git add .\n",
        "!git commit -m \"Updated daily coding progress - Feb 16\"\n",
        "!git push origin main\n"
      ],
      "metadata": {
        "colab": {
          "base_uri": "https://localhost:8080/"
        },
        "id": "Orxod_-eunxt",
        "outputId": "edb57303-c231-48ee-8dc8-109f915c1196"
      },
      "execution_count": 13,
      "outputs": [
        {
          "output_type": "stream",
          "name": "stdout",
          "text": [
            "On branch main\n",
            "Your branch is up to date with 'origin/main'.\n",
            "\n",
            "nothing to commit, working tree clean\n",
            "fatal: could not read Username for 'https://github.com': No such device or address\n"
          ]
        }
      ]
    },
    {
      "cell_type": "code",
      "source": [
        "# Learning If Statements and While Loops\n",
        "\n",
        "# Example of an if-elif-else statement\n",
        "# This program checks if a number is positive, negative, or zero\n",
        "\n",
        "def check_number(num):\n",
        "    if num > 0:\n",
        "        print(f\"{num} is a positive number.\")\n",
        "    elif num < 0:\n",
        "        print(f\"{num} is a negative number.\")\n",
        "    else:\n",
        "        print(\"The number is zero.\")\n",
        "\n",
        "# Test the function with different values\n",
        "check_number(10)\n",
        "check_number(-5)\n",
        "check_number(0)\n",
        "\n",
        "\n",
        "# Example of a while loop\n",
        "# This loop counts down from a given number until it reaches zero\n",
        "\n",
        "def countdown(n):\n",
        "    while n > 0:\n",
        "        print(n)\n",
        "        n -= 1  # Decrease n by 1 in each iteration\n",
        "    print(\"Countdown finished!\")\n",
        "\n",
        "# Run countdown from 5\n",
        "countdown(5)\n",
        "\n",
        "\n",
        "# Combining if statements and while loops\n",
        "# This program asks the user for a number and counts down only if it's positive\n",
        "\n",
        "def user_countdown():\n",
        "    num = int(input(\"Enter a positive number to start countdown: \"))\n",
        "\n",
        "    if num > 0:\n",
        "        print(\"Starting countdown...\")\n",
        "        while num > 0:\n",
        "            print(num)\n",
        "            num -= 1\n",
        "        print(\"Done!\")\n",
        "    else:\n",
        "        print(\"Please enter a positive number next time.\")\n",
        "\n",
        "# Uncomment the line below to test user input in Colab\n",
        "# user_countdown()  # Takes input from user and runs countdown\n"
      ],
      "metadata": {
        "colab": {
          "base_uri": "https://localhost:8080/"
        },
        "id": "NY4ZAABxuUsg",
        "outputId": "8eef61d1-1ff1-4b23-c51a-380b7de4a746"
      },
      "execution_count": 1,
      "outputs": [
        {
          "output_type": "stream",
          "name": "stdout",
          "text": [
            "10 is a positive number.\n",
            "-5 is a negative number.\n",
            "The number is zero.\n",
            "5\n",
            "4\n",
            "3\n",
            "2\n",
            "1\n",
            "Countdown finished!\n"
          ]
        }
      ]
    }
  ]
}