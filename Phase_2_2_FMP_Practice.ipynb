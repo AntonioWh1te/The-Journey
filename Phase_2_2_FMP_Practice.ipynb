{
  "nbformat": 4,
  "nbformat_minor": 0,
  "metadata": {
    "colab": {
      "provenance": [],
      "authorship_tag": "ABX9TyPJzcdyKJbKcb10GXWKGW5i",
      "include_colab_link": true
    },
    "kernelspec": {
      "name": "python3",
      "display_name": "Python 3"
    },
    "language_info": {
      "name": "python"
    }
  },
  "cells": [
    {
      "cell_type": "markdown",
      "metadata": {
        "id": "view-in-github",
        "colab_type": "text"
      },
      "source": [
        "<a href=\"https://colab.research.google.com/github/AntonioWh1te/The-Journey/blob/main/Phase_2_2_FMP_Practice.ipynb\" target=\"_parent\"><img src=\"https://colab.research.google.com/assets/colab-badge.svg\" alt=\"Open In Colab\"/></a>"
      ]
    },
    {
      "cell_type": "code",
      "execution_count": null,
      "metadata": {
        "id": "4toyoWpTTuCk"
      },
      "outputs": [],
      "source": [
        "import getpass # For securely entering the API Key\n",
        "import requests # For making HTTP requests to the API\n",
        "import pandas as pd # For data manipulation\n",
        "import matplotlib.pyplot as plt # For data maniupulation\n",
        "\n",
        "# Define a base URL for the API so we can easily construct later\n",
        "BASE_URL = \"financialmodelingprep.com/api/v3\"\n",
        "\n",
        "#Securely ask for API Key and store it in a variable\n",
        "apikey = getpass.getpass(\"Enter your FMP API Key Here: \")\n",
        "\n",
        "# Building a function that fetches data for any given ticker and frequency\n",
        "def fetch_stock_data(ticker, apikey, frequency = 'daily'):\n",
        "  if frequency == 'daily':\n",
        "    endpoint = f\"historical-price\"\n"
      ]
    }
  ]
}