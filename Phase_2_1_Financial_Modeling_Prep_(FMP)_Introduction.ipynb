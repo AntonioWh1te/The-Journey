{
  "nbformat": 4,
  "nbformat_minor": 0,
  "metadata": {
    "colab": {
      "provenance": [],
      "authorship_tag": "ABX9TyN+9/INNbYDlZrJu2hm4Vnw",
      "include_colab_link": true
    },
    "kernelspec": {
      "name": "python3",
      "display_name": "Python 3"
    },
    "language_info": {
      "name": "python"
    }
  },
  "cells": [
    {
      "cell_type": "markdown",
      "metadata": {
        "id": "view-in-github",
        "colab_type": "text"
      },
      "source": [
        "<a href=\"https://colab.research.google.com/github/AntonioWh1te/The-Journey/blob/main/Phase_2_1_Financial_Modeling_Prep_(FMP)_Introduction.ipynb\" target=\"_parent\"><img src=\"https://colab.research.google.com/assets/colab-badge.svg\" alt=\"Open In Colab\"/></a>"
      ]
    },
    {
      "cell_type": "markdown",
      "source": [
        "# Step 0: Understanding the Task\n",
        "* Goal: Fetch the closing prices of AAPL, NVDA, and TSLA over the past year, then plot them.\n",
        "\n",
        "* Extensions\n",
        "  1. Changing data frequency to daily or hourly\n",
        "  2. Exploring different plot types (line, bar, candlestick).\n",
        "  3. Possibly creating animations.\n",
        "\n",
        "**Key Idea:** We'll use FMP's historical endpoints to retrieve data, parse it into Pandas, and visualize it with Matplotlib.\n",
        "\n",
        "# Step 1: Explore the FMP API (Application Programming Interface)\n",
        "\n"
      ],
      "metadata": {
        "id": "gWNbFMNgX2NH"
      }
    },
    {
      "cell_type": "code",
      "source": [
        "# For daily historical data:\n",
        "\n",
        "url = \"https://financialmodelingprep.com/api/v3\"\n",
        "\n",
        "# Depdning on the data frequency (daily or intraday), we append the correct endpoint (historical-price-full), (historical-chart/1hour)\n"
      ],
      "metadata": {
        "id": "PUlnmxpgY96H"
      },
      "execution_count": null,
      "outputs": []
    }
  ]
}